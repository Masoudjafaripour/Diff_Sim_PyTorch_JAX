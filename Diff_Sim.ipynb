{
 "cells": [
  {
   "cell_type": "markdown",
   "metadata": {},
   "source": [
    "## Differentiable Simulation"
   ]
  },
  {
   "cell_type": "code",
   "execution_count": null,
   "metadata": {},
   "outputs": [],
   "source": []
  },
  {
   "cell_type": "code",
   "execution_count": 1,
   "metadata": {},
   "outputs": [],
   "source": [
    "import numpy as np\n",
    "import torch.nn as nn"
   ]
  },
  {
   "cell_type": "code",
   "execution_count": null,
   "metadata": {},
   "outputs": [],
   "source": [
    "def DiffSim(torch.tensor x):\n",
    "    Y = nn.Linear(x)\n",
    "    DY = Y.derivative \n",
    "\n",
    "    return DY"
   ]
  },
  {
   "cell_type": "code",
   "execution_count": 7,
   "metadata": {},
   "outputs": [
    {
     "name": "stdout",
     "output_type": "stream",
     "text": [
      "tensor([ 0.3736,  0.3878, -0.3231])\n"
     ]
    }
   ],
   "source": [
    "import torch\n",
    "import torch.nn as nn\n",
    "\n",
    "def DiffSim(x):\n",
    "    # Convert numpy array to torch tensor and enable gradient tracking\n",
    "    x = torch.from_numpy(x).float()  # Ensure it's float type for the NN\n",
    "    x.requires_grad_(True)  # Enable gradient tracking\n",
    "    \n",
    "    # Define a single-layer neural network (input -> output)\n",
    "    layer = nn.Linear(x.size(-1), 1)  # Assuming output is a single value\n",
    "    \n",
    "    # Forward pass through the layer\n",
    "    Y = layer(x)\n",
    "    \n",
    "    # Backward pass to compute gradient\n",
    "    Y.backward()  # Computes dY/dx\n",
    "    \n",
    "    # Return the gradient\n",
    "    return x.grad\n",
    "\n",
    "# Example usage\n",
    "import numpy as np\n",
    "x = np.array([1.0, 2.0, 3.0])\n",
    "gradient = DiffSim(x)\n",
    "print(gradient)\n"
   ]
  }
 ],
 "metadata": {
  "kernelspec": {
   "display_name": "Python 3",
   "language": "python",
   "name": "python3"
  },
  "language_info": {
   "codemirror_mode": {
    "name": "ipython",
    "version": 3
   },
   "file_extension": ".py",
   "mimetype": "text/x-python",
   "name": "python",
   "nbconvert_exporter": "python",
   "pygments_lexer": "ipython3",
   "version": "3.12.2"
  }
 },
 "nbformat": 4,
 "nbformat_minor": 2
}
